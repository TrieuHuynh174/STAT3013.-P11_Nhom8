{
 "cells": [
  {
   "cell_type": "code",
   "execution_count": null,
   "id": "7f6ac19d-0aa0-46e8-96d2-38a235d4fe20",
   "metadata": {},
   "outputs": [],
   "source": [
    "import pandas as pd\n",
    "import matplotlib.pyplot as plt\n",
    "import matplotlib.dates as mdates\n",
    "\n",
    "# Đọc dữ liệu từ file CSV (cập nhật đường dẫn tới file CSV của bạn)\n",
    "file_path = r'F:\\\\Dữ liệu thống kê\\\\Tesla_Close_2019_2024.csv'\n",
    "tesla_stock = pd.read_csv(file_path)\n",
    "\n",
    "# Kiểm tra dữ liệu để xác nhận cột 'Date'\n",
    "print(\"Dữ liệu đầu tiên:\")\n",
    "print(tesla_stock.head())\n",
    "\n",
    "# Chuyển đổi cột 'Date' sang kiểu datetime với định dạng ngày-tháng-năm (2 chữ số cho năm)\n",
    "tesla_stock['Date'] = pd.to_datetime(tesla_stock['Date'], format='%d-%m-%y', errors='coerce')\n",
    "\n",
    "# Loại bỏ các hàng có giá trị 'Date' không hợp lệ\n",
    "tesla_stock.dropna(subset=['Date'], inplace=True)\n",
    "\n",
    "# Thiết lập cột 'Date' làm chỉ mục (index)\n",
    "tesla_stock.set_index('Date', inplace=True)\n",
    "\n",
    "# Kiểm tra dữ liệu sau khi chuyển đổi\n",
    "print(\"\\nDữ liệu sau khi chuyển đổi cột 'Date':\")\n",
    "print(tesla_stock.head())\n",
    "\n",
    "# Lấy dữ liệu chuỗi thời gian của cột 'Close'\n",
    "close_data = tesla_stock['Close']\n",
    "\n",
    "# Vẽ đồ thị chuỗi thời gian\n",
    "plt.figure(figsize=(12, 6))\n",
    "plt.plot(tesla_stock.index, close_data, color='blue', linewidth=2)\n",
    "\n",
    "# Thêm tiêu đề và nhãn cho trục\n",
    "plt.title('Tesla Stock Close Price Over Time (2019-2024)', fontsize=16)\n",
    "plt.xlabel('Date', fontsize=14)\n",
    "plt.ylabel('Close Price (USD)', fontsize=14)\n",
    "\n",
    "# Đặt nhãn trục hoành theo năm\n",
    "plt.gca().xaxis.set_major_locator(mdates.YearLocator())  # Đặt nhãn mỗi năm\n",
    "plt.gca().xaxis.set_major_formatter(mdates.DateFormatter('%Y'))  # Định dạng nhãn theo năm\n",
    "\n",
    "# Quay nhãn trục hoành để dễ đọc\n",
    "plt.xticks(rotation=45)\n",
    "\n",
    "# Hiển thị lưới\n",
    "plt.grid(visible=True)\n",
    "\n",
    "# Hiển thị đồ thị\n",
    "plt.tight_layout()\n",
    "plt.show()\n"
   ]
  }
 ],
 "metadata": {
  "kernelspec": {
   "display_name": "Python 3 (ipykernel)",
   "language": "python",
   "name": "python3"
  },
  "language_info": {
   "codemirror_mode": {
    "name": "ipython",
    "version": 3
   },
   "file_extension": ".py",
   "mimetype": "text/x-python",
   "name": "python",
   "nbconvert_exporter": "python",
   "pygments_lexer": "ipython3",
   "version": "3.12.6"
  }
 },
 "nbformat": 4,
 "nbformat_minor": 5
}
